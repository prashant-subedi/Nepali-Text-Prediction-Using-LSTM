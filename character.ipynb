{
 "cells": [
  {
   "cell_type": "code",
   "execution_count": null,
   "metadata": {},
   "outputs": [
    {
     "name": "stderr",
     "output_type": "stream",
     "text": [
      "/usr/local/lib/python3.5/dist-packages/h5py/__init__.py:36: FutureWarning: Conversion of the second argument of issubdtype from `float` to `np.floating` is deprecated. In future, it will be treated as `np.float64 == np.dtype(float).type`.\n",
      "  from ._conv import register_converters as _register_converters\n",
      "Using TensorFlow backend.\n"
     ]
    },
    {
     "name": "stdout",
     "output_type": "stream",
     "text": [
      "Total Characters:  144418\n",
      "Total Vocab:  45\n",
      "Total Patterns:  144318\n",
      "Epoch 1/20\n",
      "144318/144318 [==============================] - 640s 4ms/step - loss: 2.9714\n",
      "\n",
      "Epoch 00001: loss improved from inf to 2.97144, saving model to weights-improvement-01-2.9714.hdf5\n",
      "Epoch 2/20\n",
      "144318/144318 [==============================] - 583s 4ms/step - loss: 2.7632\n",
      "\n",
      "Epoch 00002: loss improved from 2.97144 to 2.76318, saving model to weights-improvement-02-2.7632.hdf5\n",
      "Epoch 3/20\n",
      "144318/144318 [==============================] - 571s 4ms/step - loss: 2.6546\n",
      "\n",
      "Epoch 00003: loss improved from 2.76318 to 2.65462, saving model to weights-improvement-03-2.6546.hdf5\n",
      "Epoch 4/20\n",
      "144318/144318 [==============================] - 571s 4ms/step - loss: 2.5778\n",
      "\n",
      "Epoch 00004: loss improved from 2.65462 to 2.57782, saving model to weights-improvement-04-2.5778.hdf5\n",
      "Epoch 5/20\n",
      "144318/144318 [==============================] - 665s 5ms/step - loss: 2.5146\n",
      "\n",
      "Epoch 00005: loss improved from 2.57782 to 2.51459, saving model to weights-improvement-05-2.5146.hdf5\n",
      "Epoch 6/20\n",
      "144318/144318 [==============================] - 586s 4ms/step - loss: 2.4555\n",
      "\n",
      "Epoch 00006: loss improved from 2.51459 to 2.45547, saving model to weights-improvement-06-2.4555.hdf5\n",
      "Epoch 7/20\n",
      "144318/144318 [==============================] - 591s 4ms/step - loss: 2.4010\n",
      "\n",
      "Epoch 00007: loss improved from 2.45547 to 2.40102, saving model to weights-improvement-07-2.4010.hdf5\n",
      "Epoch 8/20\n",
      " 54400/144318 [==========>...................] - ETA: 6:12 - loss: 2.3694"
     ]
    }
   ],
   "source": [
    "# Small LSTM Network to Generate Text for Alice in Wonderland\n",
    "import numpy\n",
    "from keras.models import Sequential\n",
    "from keras.layers import Dense\n",
    "from keras.layers import Dropout\n",
    "from keras.layers import LSTM\n",
    "from keras.callbacks import ModelCheckpoint\n",
    "from keras.utils import np_utils\n",
    "# load ascii text and covert to lowercase\n",
    "filename = \"wonderland.txt\"\n",
    "raw_text = open(filename).read()\n",
    "raw_text = raw_text.lower()\n",
    "# create mapping of unique chars to integers\n",
    "chars = sorted(list(set(raw_text)))\n",
    "char_to_int = dict((c, i) for i, c in enumerate(chars))\n",
    "# summarize the loaded data\n",
    "n_chars = len(raw_text)\n",
    "n_vocab = len(chars)\n",
    "print (\"Total Characters: \", n_chars)\n",
    "print (\"Total Vocab: \", n_vocab)\n",
    "# prepare the dataset of input to output pairs encoded as integers\n",
    "seq_length = 100\n",
    "dataX = []\n",
    "dataY = []\n",
    "for i in range(0, n_chars - seq_length, 1):\n",
    "    seq_in = raw_text[i:i + seq_length]\n",
    "    seq_out = raw_text[i + seq_length]\n",
    "    dataX.append([char_to_int[char] for char in seq_in])\n",
    "    dataY.append(char_to_int[seq_out])\n",
    "n_patterns = len(dataX)\n",
    "print( \"Total Patterns: \", n_patterns)\n",
    "# reshape X to be [samples, time steps, features]\n",
    "X = numpy.reshape(dataX, (n_patterns, seq_length, 1))\n",
    "# normalize\n",
    "X = X / float(n_vocab)\n",
    "# one hot encode the output variable\n",
    "y = np_utils.to_categorical(dataY)\n",
    "# define the LSTM model\n",
    "model = Sequential()\n",
    "model.add(LSTM(256, input_shape=(X.shape[1], X.shape[2])))\n",
    "model.add(Dropout(0.2))\n",
    "model.add(Dense(y.shape[1], activation='softmax'))\n",
    "model.compile(loss='categorical_crossentropy', optimizer='adam')\n",
    "# define the checkpoint\n",
    "filepath=\"weights-improvement-{epoch:02d}-{loss:.4f}.hdf5\"\n",
    "checkpoint = ModelCheckpoint(filepath, monitor='loss', verbose=1, save_best_only=True, mode='min')\n",
    "callbacks_list = [checkpoint]\n",
    "# fit the model\n",
    "model.fit(X, y, epochs=20, batch_size=128, callbacks=callbacks_list)"
   ]
  },
  {
   "cell_type": "code",
   "execution_count": null,
   "metadata": {},
   "outputs": [],
   "source": []
  }
 ],
 "metadata": {
  "kernelspec": {
   "display_name": "Python 3",
   "language": "python",
   "name": "python3"
  },
  "language_info": {
   "codemirror_mode": {
    "name": "ipython",
    "version": 3
   },
   "file_extension": ".py",
   "mimetype": "text/x-python",
   "name": "python",
   "nbconvert_exporter": "python",
   "pygments_lexer": "ipython3",
   "version": "3.5.2"
  }
 },
 "nbformat": 4,
 "nbformat_minor": 2
}
