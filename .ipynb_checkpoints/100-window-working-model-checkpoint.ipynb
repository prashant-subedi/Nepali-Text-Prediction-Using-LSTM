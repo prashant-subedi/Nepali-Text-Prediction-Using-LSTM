{
 "cells": [
  {
   "cell_type": "code",
   "execution_count": 1,
   "metadata": {},
   "outputs": [
    {
     "name": "stderr",
     "output_type": "stream",
     "text": [
      "/usr/local/lib/python3.5/dist-packages/h5py/__init__.py:36: FutureWarning: Conversion of the second argument of issubdtype from `float` to `np.floating` is deprecated. In future, it will be treated as `np.float64 == np.dtype(float).type`.\n",
      "  from ._conv import register_converters as _register_converters\n",
      "Using TensorFlow backend.\n"
     ]
    },
    {
     "name": "stdout",
     "output_type": "stream",
     "text": [
      "0\n"
     ]
    }
   ],
   "source": [
    "# Larger LSTM Network to Generate Text for Alice in Wonderland\n",
    "import numpy\n",
    "import keras\n",
    "from keras.models import Sequential\n",
    "from keras.layers import Dense\n",
    "from keras.layers import Dropout\n",
    "from keras.layers import LSTM\n",
    "from keras.callbacks import ModelCheckpoint\n",
    "from keras.utils import np_utils\n",
    "# load ascii text and covert to lowercase\n",
    "import sys\n",
    "\n",
    "from nltk.corpus import PlaintextCorpusReader\n",
    "import os\n",
    "import sys\n",
    "wordlists = PlaintextCorpusReader(\"Nepali_Corpus\", '.*txt')\n",
    "data = wordlists.fileids()[:50]\n",
    "text = []\n",
    "invalid = 0\n",
    "for i in data:\n",
    "    with open(os.path.join(\"Nepali_Corpus\",i),encoding='utf8') as file:\n",
    "        try:\n",
    "            text.append(file.read())\n",
    "        except UnicodeDecodeError :\n",
    "            print(i)\n",
    "            invalid+=1\n",
    "print(invalid)\n",
    "raw_text = \"\\n\".join(text)\n"
   ]
  },
  {
   "cell_type": "code",
   "execution_count": 8,
   "metadata": {
    "scrolled": false
   },
   "outputs": [
    {
     "name": "stdout",
     "output_type": "stream",
     "text": [
      "['\\n', ' ', '(', ')', ',', '-', '.', '/', '?', 'm', '\\xa0', '¥', 'ँ', 'ं', 'ः', 'अ', 'आ', 'इ', 'ई', 'उ', 'ऊ', 'ऋ', 'ए', 'ऐ', 'ओ', 'औ', 'क', 'ख', 'ग', 'घ', 'ङ', 'च', 'छ', 'ज', 'झ', 'ञ', 'ट', 'ठ', 'ड', 'ढ', 'ण', 'त', 'थ', 'द', 'ध', 'न', 'प', 'फ', 'ब', 'भ', 'म', 'य', 'र', 'ल', 'व', 'श', 'ष', 'स', 'ह', 'ा', 'ि', 'ी', 'ु', 'ू', 'ृ', 'े', 'ै', 'ो', 'ौ', '्', '।', '०', '१', '२', '३', '४', '५', '६', '७', '८', '९', '\\u200d', '–', '‘', '’']\n",
      "Total Characters:  70766\n",
      "Total Vocab:  85\n",
      "Total Patterns:  70666\n"
     ]
    }
   ],
   "source": [
    "\n",
    "# create mapping of unique chars to integers\n",
    "chars = sorted(list(set(raw_text)))\n",
    "char_to_int = dict((c, i) for i, c in enumerate(chars))\n",
    "int_to_char = dict((i, c) for i, c in enumerate(chars))\n",
    "# summarize the loaded data\n",
    "n_chars = len(raw_text)\n",
    "n_vocab = len(chars)\n",
    "print(chars)\n",
    "print (\"Total Characters: \", n_chars)\n",
    "print (\"Total Vocab: \", n_vocab)\n",
    "# prepare the dataset of input to output pairs encoded as integers\n",
    "seq_length = 100\n",
    "dataX = []\n",
    "dataY = []\n",
    "for i in range(0, n_chars - seq_length, 1):\n",
    "    seq_in = raw_text[i:i + seq_length]\n",
    "    seq_out = raw_text[i + seq_length]\n",
    "    dataX.append([char_to_int[char] for char in seq_in])\n",
    "    dataY.append(char_to_int[seq_out])\n",
    "n_patterns = len(dataX)\n",
    "print (\"Total Patterns: \", n_patterns)\n",
    "# reshape X to be [samples, time steps, features]\n",
    "X = numpy.reshape(dataX, (n_patterns, seq_length, 1))\n",
    "# normalize\n",
    "X = X / float(n_vocab)\n",
    "# one hot encode the output variable\n",
    "y = np_utils.to_categorical(dataY)\n",
    "# define the LSTM model\n"
   ]
  },
  {
   "cell_type": "code",
   "execution_count": 4,
   "metadata": {},
   "outputs": [
    {
     "data": {
      "text/plain": [
       "{'\\n': 0,\n",
       " ' ': 1,\n",
       " '(': 2,\n",
       " ')': 3,\n",
       " ',': 4,\n",
       " '-': 5,\n",
       " '.': 6,\n",
       " '/': 7,\n",
       " '?': 8,\n",
       " 'm': 9,\n",
       " '\\xa0': 10,\n",
       " '¥': 11,\n",
       " 'ँ': 12,\n",
       " 'ं': 13,\n",
       " 'ः': 14,\n",
       " 'अ': 15,\n",
       " 'आ': 16,\n",
       " 'इ': 17,\n",
       " 'ई': 18,\n",
       " 'उ': 19,\n",
       " 'ऊ': 20,\n",
       " 'ऋ': 21,\n",
       " 'ए': 22,\n",
       " 'ऐ': 23,\n",
       " 'ओ': 24,\n",
       " 'औ': 25,\n",
       " 'क': 26,\n",
       " 'ख': 27,\n",
       " 'ग': 28,\n",
       " 'घ': 29,\n",
       " 'ङ': 30,\n",
       " 'च': 31,\n",
       " 'छ': 32,\n",
       " 'ज': 33,\n",
       " 'झ': 34,\n",
       " 'ञ': 35,\n",
       " 'ट': 36,\n",
       " 'ठ': 37,\n",
       " 'ड': 38,\n",
       " 'ढ': 39,\n",
       " 'ण': 40,\n",
       " 'त': 41,\n",
       " 'थ': 42,\n",
       " 'द': 43,\n",
       " 'ध': 44,\n",
       " 'न': 45,\n",
       " 'प': 46,\n",
       " 'फ': 47,\n",
       " 'ब': 48,\n",
       " 'भ': 49,\n",
       " 'म': 50,\n",
       " 'य': 51,\n",
       " 'र': 52,\n",
       " 'ल': 53,\n",
       " 'व': 54,\n",
       " 'श': 55,\n",
       " 'ष': 56,\n",
       " 'स': 57,\n",
       " 'ह': 58,\n",
       " 'ा': 59,\n",
       " 'ि': 60,\n",
       " 'ी': 61,\n",
       " 'ु': 62,\n",
       " 'ू': 63,\n",
       " 'ृ': 64,\n",
       " 'े': 65,\n",
       " 'ै': 66,\n",
       " 'ो': 67,\n",
       " 'ौ': 68,\n",
       " '्': 69,\n",
       " '।': 70,\n",
       " '०': 71,\n",
       " '१': 72,\n",
       " '२': 73,\n",
       " '३': 74,\n",
       " '४': 75,\n",
       " '५': 76,\n",
       " '६': 77,\n",
       " '७': 78,\n",
       " '८': 79,\n",
       " '९': 80,\n",
       " '\\u200d': 81,\n",
       " '–': 82,\n",
       " '‘': 83,\n",
       " '’': 84}"
      ]
     },
     "execution_count": 4,
     "metadata": {},
     "output_type": "execute_result"
    }
   ],
   "source": [
    "int_to_char"
   ]
  },
  {
   "cell_type": "code",
   "execution_count": null,
   "metadata": {},
   "outputs": [],
   "source": [
    "model = Sequential()\n",
    "model.add(LSTM(256, input_shape=(X.shape[1], X.shape[2]), return_sequences=True))\n",
    "model.add(Dropout(0.2))\n",
    "model.add(LSTM(256))\n",
    "model.add(Dropout(0.2))\n",
    "model.add(Dense(y.shape[1], activation='softmax'))\n",
    "model.compile(loss='categorical_crossentropy', optimizer='adam')\n",
    "# define the checkpoint\n",
    "filepath=\"weights-improvement-{epoch:02d}-{loss:.4f}-bigger.hdf5\"\n",
    "checkpoint = ModelCheckpoint(filepath, monitor='loss', verbose=1, save_best_only=True, mode='min')\n",
    "callbacks_list = [checkpoint]\n",
    "# fit the model\n",
    "model.fit(X, y, epochs=50, batch_size=64, callbacks=callbacks_list)"
   ]
  },
  {
   "cell_type": "code",
   "execution_count": 5,
   "metadata": {},
   "outputs": [],
   "source": [
    "model = keras.models.load_model(\"2-layer-keras.hdf5\")"
   ]
  },
  {
   "cell_type": "code",
   "execution_count": 6,
   "metadata": {},
   "outputs": [
    {
     "name": "stdout",
     "output_type": "stream",
     "text": [
      "_________________________________________________________________\n",
      "Layer (type)                 Output Shape              Param #   \n",
      "=================================================================\n",
      "lstm_5 (LSTM)                (None, 100, 256)          264192    \n",
      "_________________________________________________________________\n",
      "dropout_5 (Dropout)          (None, 100, 256)          0         \n",
      "_________________________________________________________________\n",
      "lstm_6 (LSTM)                (None, 256)               525312    \n",
      "_________________________________________________________________\n",
      "dropout_6 (Dropout)          (None, 256)               0         \n",
      "_________________________________________________________________\n",
      "dense_3 (Dense)              (None, 85)                21845     \n",
      "=================================================================\n",
      "Total params: 811,349\n",
      "Trainable params: 811,349\n",
      "Non-trainable params: 0\n",
      "_________________________________________________________________\n"
     ]
    }
   ],
   "source": [
    "model.summary()"
   ]
  },
  {
   "cell_type": "code",
   "execution_count": null,
   "metadata": {},
   "outputs": [
    {
     "name": "stdout",
     "output_type": "stream",
     "text": [
      "Seed:\n",
      "\n",
      " जनिक उनको गीतको भिडियोलाई अहिले ३८ लाखभन्दा बढी मानिसले हेरिसकेका छन्। उनको म्युजिक भिडियोमा आँखा झि \n",
      "\n",
      "न्र सागिन भएको छ।\n",
      "\n",
      "\n",
      "\n",
      "\n",
      "\n",
      "\n",
      "\n",
      "काठमाडौं– सामागिता रिम्रो प्रस्तुत गरेका छन्।\n",
      "उनले बनि कार्यक्रममा साभ्वज्ष गरिका छन्।\n",
      "उनले बनि कार्यक्रममा साभ्वज्ष गरिका छन्। उनले बनि कार्यक्रममा साभ्वज्ष गरिका छन्।\n",
      "उनले बनि कार्यक्रममा साभ्वज्ष गरिका छन्।\n",
      "उनले बनि कार्यक्रममा साभ्वज्ष गरिका छन्।\n",
      "उनले बनि कार्यक्रममा साभ्वज्ष गरिका छन्।\n",
      "उनले बनि कार्यक्रममा साभ्वज्ष गरिका छन्।\n",
      "उनले बनि कार्यक्रममा साभ्वज्ष गरिका छन्।\n",
      "उनले बनि कार्यक्रममा साभ्वज्ष गरिका छन्।\n",
      "उनले बनि कार्यक्रममा साभ्वज्ष गरिका छन्।\n",
      "उनले बनि कार्यक्रममा साभ्वज्ष गरिका छन्।\n",
      "उनले बनि कार्यक्रममा साभ्वज्ष गरिका छन्।\n",
      "उनले बनि कार्यक्रममा साभ्वज्ष गरिका छन्।\n",
      "उनले बनि कार्यक्रममा साभ्वज्ष गरिका छन्।\n",
      "उनले बनि कार्यक्रममा साभ्वज्ष गरिका छन्।\n",
      "उनले बनि कार्यक्रममा साभ्वज्ष गर"
     ]
    }
   ],
   "source": [
    "start = numpy.random.randint(0, len(dataX)-1)\n",
    "pattern = dataX[start]\n",
    "print (\"Seed:\")\n",
    "print (\"\\n\", ''.join([int_to_char[value] for value in pattern]), \"\\n\")\n",
    "# generate characters\n",
    "for i in range(1000):\n",
    "    x = numpy.reshape(pattern, (1, len(pattern), 1))\n",
    "    x = x / float(n_vocab)\n",
    "    prediction = model.predict(x, verbose=0)\n",
    "    index = numpy.argmax(prediction)\n",
    "    result = int_to_char[index]\n",
    "    seq_in = [int_to_char[value] for value in pattern]\n",
    "    sys.stdout.write(result)\n",
    "    pattern.append(index)\n",
    "    pattern = pattern[1:len(pattern)]\n",
    "print (\"\\nDone.\")"
   ]
  },
  {
   "cell_type": "code",
   "execution_count": null,
   "metadata": {},
   "outputs": [],
   "source": [
    "int"
   ]
  }
 ],
 "metadata": {
  "kernelspec": {
   "display_name": "Python 3",
   "language": "python",
   "name": "python3"
  },
  "language_info": {
   "codemirror_mode": {
    "name": "ipython",
    "version": 3
   },
   "file_extension": ".py",
   "mimetype": "text/x-python",
   "name": "python",
   "nbconvert_exporter": "python",
   "pygments_lexer": "ipython3",
   "version": "3.5.2"
  }
 },
 "nbformat": 4,
 "nbformat_minor": 2
}
