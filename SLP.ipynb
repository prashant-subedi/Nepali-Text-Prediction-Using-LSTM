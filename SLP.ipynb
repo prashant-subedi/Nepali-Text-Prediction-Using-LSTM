{
 "cells": [
  {
   "cell_type": "code",
   "execution_count": 44,
   "metadata": {},
   "outputs": [],
   "source": [
    "from nltk.corpus import PlaintextCorpusReader\n",
    "import sys\n",
    "wordlists = PlaintextCorpusReader(\"Nepali_Corpus\", '.*txt')"
   ]
  },
  {
   "cell_type": "code",
   "execution_count": 17,
   "metadata": {},
   "outputs": [],
   "source": [
    "texts,invalid = [],0\n",
    "for i in wordlists.fileids():\n",
    "    try:\n",
    "        texts.append(wordlists.raw(i).replace(\"\\ufeff\",\"\"))\n",
    "    except UnicodeDecodeError:\n",
    "        invalid+=1\n"
   ]
  },
  {
   "cell_type": "code",
   "execution_count": 18,
   "metadata": {},
   "outputs": [
    {
     "data": {
      "text/plain": [
       "20954"
      ]
     },
     "execution_count": 18,
     "metadata": {},
     "output_type": "execute_result"
    }
   ],
   "source": [
    "len(wordlists.fileids())"
   ]
  },
  {
   "cell_type": "code",
   "execution_count": 19,
   "metadata": {},
   "outputs": [
    {
     "name": "stdout",
     "output_type": "stream",
     "text": [
      "20727 227\n"
     ]
    }
   ],
   "source": [
    "print(len(texts),invalid)"
   ]
  },
  {
   "cell_type": "code",
   "execution_count": 21,
   "metadata": {},
   "outputs": [
    {
     "name": "stdout",
     "output_type": "stream",
     "text": [
      "244816\n"
     ]
    }
   ],
   "source": [
    "import re\n",
    "##Split in text\n",
    "paragraph = list()\n",
    "for text in texts:\n",
    "    raw = re.split(r\"\\n|\\r\",text.strip())\n",
    "    if len(text) > 0 or not re.match('(\\s)+',text): \n",
    "        paragraph.extend(raw)\n",
    "print(len(paragraph))"
   ]
  },
  {
   "cell_type": "code",
   "execution_count": 11,
   "metadata": {},
   "outputs": [],
   "source": [
    "#paragraph"
   ]
  },
  {
   "cell_type": "code",
   "execution_count": 24,
   "metadata": {},
   "outputs": [
    {
     "name": "stdout",
     "output_type": "stream",
     "text": [
      "543907\n"
     ]
    }
   ],
   "source": [
    "#Split Into Sentences\n",
    "pura_sents = []\n",
    "for i in paragraph:\n",
    "    pura_sents.extend(re.split(r'(?<=।)\\s',i))\n",
    "print(len(pura_sents))"
   ]
  },
  {
   "cell_type": "code",
   "execution_count": 25,
   "metadata": {},
   "outputs": [
    {
     "name": "stdout",
     "output_type": "stream",
     "text": [
      "553131\n"
     ]
    }
   ],
   "source": [
    "sents = []\n",
    "for i in pura_sents:\n",
    "    sents.extend(re.split(r'(?<=\\?)\\s',i))\n",
    "#sents\n",
    "print(len(sents))"
   ]
  },
  {
   "cell_type": "code",
   "execution_count": 26,
   "metadata": {},
   "outputs": [],
   "source": [
    "#Split Into Words\n",
    "tokenized_sents = []\n",
    "for i in sents:\n",
    "    tok_sent = [j for j in  re.split(r\"\\s+|\\t+|[-(),।/'–’“‘]|\\\"‘|\\.+|[०१२३४५६७८९]+\",i) if len(j)>0]\n",
    "    tokenized_sents.append(tok_sent)\n",
    "    "
   ]
  },
  {
   "cell_type": "code",
   "execution_count": 27,
   "metadata": {},
   "outputs": [],
   "source": [
    "#tokenized_sents"
   ]
  },
  {
   "cell_type": "code",
   "execution_count": 34,
   "metadata": {},
   "outputs": [
    {
     "name": "stdout",
     "output_type": "stream",
     "text": [
      "553131\n",
      "343699\n",
      "6777814\n"
     ]
    }
   ],
   "source": [
    "vocab = set()\n",
    "total = []\n",
    "for i in tokenized_sents:\n",
    "    vocab.update(i)\n",
    "    total.extend(i)\n",
    "\n",
    "print(\"Total Sentences =\",len(tokenized_sents))\n",
    "print(\"Vocab Size=\", len(vocab))\n",
    "print(\"\"len(total))\n"
   ]
  },
  {
   "cell_type": "code",
   "execution_count": 39,
   "metadata": {},
   "outputs": [
    {
     "data": {
      "image/png": "[encoded data removed]",
      "text/plain": [
       "<matplotlib.figure.Figure at 0x7fa02ce23ba8>"
      ]
     },
     "metadata": {},
     "output_type": "display_data"
    }
   ],
   "source": [
    "from nltk import FreqDist\n",
    "a = FreqDist(total)\n",
    "a.plot(200)"
   ]
  },
  {
   "cell_type": "code",
   "execution_count": 37,
   "metadata": {},
   "outputs": [
    {
     "name": "stdout",
     "output_type": "stream",
     "text": [
      "Dump Completed\n"
     ]
    }
   ],
   "source": [
    "with open(\"text_dump\",\"w\") as text_dump:\n",
    "    for i in a.most_common():\n",
    "        text_dump.write(i[0]+\"-------\"+ str(i[1]))\n",
    "        text_dump.write(\"\\n\")\n",
    "text_dump.close()\n",
    "print(\"Dump Completed\")"
   ]
  },
  {
   "cell_type": "code",
   "execution_count": 41,
   "metadata": {},
   "outputs": [
    {
     "name": "stdout",
     "output_type": "stream",
     "text": [
      "Dump Completed\n"
     ]
    },
    {
     "data": {
      "image/png": "[encoded data removed]",
      "text/plain": [
       "<matplotlib.figure.Figure at 0x7fa02cdbf860>"
      ]
     },
     "metadata": {},
     "output_type": "display_data"
    }
   ],
   "source": [
    "frequency_analysis = [i[1] for i in a.most_common()]\n",
    "frequency = FreqDist(frequency_analysis)\n",
    "frequency.most_common()\n",
    "\n",
    "with open(\"frequency_dump\",\"w\") as text_dump:\n",
    "    for i in a.most_common():\n",
    "        text_dump.write(i[0]+\"-------\"+ str(i[1]))\n",
    "        text_dump.write(\"\\n\")\n",
    "text_dump.close()\n",
    "print(\"Dump Completed\")\n",
    "frequency.plot(100)\n",
    "#The plot shows a asymptotical decrease in frequency of words.\n",
    "#There are a large number of words whose frequeny is just 1 in a huge vocab"
   ]
  },
  {
   "cell_type": "code",
   "execution_count": 46,
   "metadata": {},
   "outputs": [
    {
     "name": "stdout",
     "output_type": "stream",
     "text": [
      "4826312\n"
     ]
    }
   ],
   "source": [
    "print(sys.getsizeof(tokenized_sents))\n",
    "#This can't be right !!"
   ]
  },
  {
   "cell_type": "code",
   "execution_count": 47,
   "metadata": {},
   "outputs": [],
   "source": [
    "train = tokenized_sents[0:200]"
   ]
  },
  {
   "cell_type": "code",
   "execution_count": 51,
   "metadata": {},
   "outputs": [
    {
     "data": {
      "text/plain": [
       "['Nagarik/art/38427.txt',\n",
       " 'Nagarik/art/38428.txt',\n",
       " 'Nagarik/art/38429.txt',\n",
       " 'Nagarik/art/38504.txt',\n",
       " 'Nagarik/art/38508.txt',\n",
       " 'Nagarik/art/38555.txt',\n",
       " 'Nagarik/art/38556.txt',\n",
       " 'Nagarik/art/38557.txt',\n",
       " 'Nagarik/art/38558.txt',\n",
       " 'Nagarik/art/38564.txt',\n",
       " 'Nagarik/art/38587.txt',\n",
       " 'Nagarik/art/38597.txt',\n",
       " 'Nagarik/art/38598.txt',\n",
       " 'Nagarik/art/38599.txt',\n",
       " 'Nagarik/art/38604.txt',\n",
       " 'Nagarik/art/38637.txt',\n",
       " 'Nagarik/art/38638.txt',\n",
       " 'Nagarik/art/38639.txt',\n",
       " 'Nagarik/art/38640.txt',\n",
       " 'Nagarik/art/38642.txt',\n",
       " 'Nagarik/art/38644.txt',\n",
       " 'Nagarik/art/38708.txt',\n",
       " 'Nagarik/art/38747.txt',\n",
       " 'Nagarik/art/38748.txt',\n",
       " 'Nagarik/art/38749.txt',\n",
       " 'Nagarik/art/38751.txt',\n",
       " 'Nagarik/art/38753.txt',\n",
       " 'Nagarik/art/38775.txt',\n",
       " 'Nagarik/art/38802.txt',\n",
       " 'Nagarik/art/38821.txt',\n",
       " 'Nagarik/art/38842.txt',\n",
       " 'Nagarik/art/38851.txt',\n",
       " 'Nagarik/art/38889.txt',\n",
       " 'Nagarik/art/38891.txt',\n",
       " 'Nagarik/art/38898.txt',\n",
       " 'Nagarik/art/38927.txt',\n",
       " 'Nagarik/art/38932.txt',\n",
       " 'Nagarik/art/38934.txt',\n",
       " 'Nagarik/art/38939.txt',\n",
       " 'Nagarik/art/38977.txt',\n",
       " 'Nagarik/art/38995.txt',\n",
       " 'Nagarik/art/39024.txt',\n",
       " 'Nagarik/art/39026.txt',\n",
       " 'Nagarik/art/39297.txt',\n",
       " 'Nagarik/art/39304.txt',\n",
       " 'Nagarik/art/39369.txt',\n",
       " 'Nagarik/art/39435.txt',\n",
       " 'Nagarik/art/39477.txt',\n",
       " 'Nagarik/art/39485.txt',\n",
       " 'Nagarik/art/39488.txt',\n",
       " 'Nagarik/art/39524.txt',\n",
       " 'Nagarik/art/39562.txt',\n",
       " 'Nagarik/art/39608.txt',\n",
       " 'Nagarik/art/39614.txt',\n",
       " 'Nagarik/art/39615.txt',\n",
       " 'Nagarik/art/39681.txt',\n",
       " 'Nagarik/art/39698.txt',\n",
       " 'Nagarik/art/39701.txt',\n",
       " 'Nagarik/art/39702.txt',\n",
       " 'Nagarik/art/39735.txt',\n",
       " 'Nagarik/art/39777.txt',\n",
       " 'Nagarik/art/39783.txt',\n",
       " 'Nagarik/art/39785.txt',\n",
       " 'Nagarik/art/39834.txt',\n",
       " 'Nagarik/art/39837.txt',\n",
       " 'Nagarik/art/39839.txt',\n",
       " 'Nagarik/art/39840.txt',\n",
       " 'Nagarik/art/39841.txt',\n",
       " 'Nagarik/art/39842.txt',\n",
       " 'Nagarik/art/39919.txt',\n",
       " 'Nagarik/art/39920.txt',\n",
       " 'Nagarik/art/39921.txt',\n",
       " 'Nagarik/art/39963.txt',\n",
       " 'Nagarik/art/40046.txt',\n",
       " 'Nagarik/art/40048.txt',\n",
       " 'Nagarik/art/40049.txt',\n",
       " 'Nagarik/art/40105.txt',\n",
       " 'Nagarik/art/40109.txt',\n",
       " 'Nagarik/art/40180.txt',\n",
       " 'Nagarik/art/40207.txt',\n",
       " 'Nagarik/art/40213.txt',\n",
       " 'Nagarik/art/40252.txt',\n",
       " 'Nagarik/art/40277.txt',\n",
       " 'Nagarik/art/40279.txt',\n",
       " 'Nagarik/art/40280.txt',\n",
       " 'Nagarik/art/40290.txt',\n",
       " 'Nagarik/art/40321.txt',\n",
       " 'Nagarik/art/40323.txt',\n",
       " 'Nagarik/art/40324.txt',\n",
       " 'Nagarik/art/40434.txt',\n",
       " 'Nagarik/art/40455.txt',\n",
       " 'Nagarik/art/40515.txt',\n",
       " 'Nagarik/art/40516.txt',\n",
       " 'Nagarik/art/40517.txt',\n",
       " 'Nagarik/art/40522.txt',\n",
       " 'Nagarik/art/40571.txt',\n",
       " 'Nagarik/art/40613.txt',\n",
       " 'Nagarik/art/40616.txt',\n",
       " 'Nagarik/art/40618.txt',\n",
       " 'Nagarik/art/40643.txt']"
      ]
     },
     "execution_count": 51,
     "metadata": {},
     "output_type": "execute_result"
    }
   ],
   "source": []
  },
  {
   "cell_type": "code",
   "execution_count": null,
   "metadata": {},
   "outputs": [],
   "source": []
  },
  {
   "cell_type": "code",
   "execution_count": null,
   "metadata": {},
   "outputs": [],
   "source": []
  },
  {
   "cell_type": "code",
   "execution_count": null,
   "metadata": {},
   "outputs": [],
   "source": []
  }
 ],
 "metadata": {
  "kernelspec": {
   "display_name": "Python 3",
   "language": "python",
   "name": "python3"
  },
  "language_info": {
   "codemirror_mode": {
    "name": "ipython",
    "version": 3
   },
   "file_extension": ".py",
   "mimetype": "text/x-python",
   "name": "python",
   "nbconvert_exporter": "python",
   "pygments_lexer": "ipython3",
   "version": "3.5.2"
  }
 },
 "nbformat": 4,
 "nbformat_minor": 2
}
