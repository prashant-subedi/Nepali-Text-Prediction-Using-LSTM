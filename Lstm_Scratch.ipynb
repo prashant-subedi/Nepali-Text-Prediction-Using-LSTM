{
 "cells": [
  {
   "cell_type": "code",
   "execution_count": 179,
   "metadata": {},
   "outputs": [],
   "source": [
    "from keras.models import Sequential\n",
    "from keras.layers import Dense,Dropout\n",
    "from keras.optimizers import Adam\n",
    "from keras.losses import categorical_crossentropy,binary_crossentropy\n",
    "from keras.activations import relu,softmax,sigmoid\n",
    "from keras.datasets import mnist\n",
    "from keras.utils import to_categorical\n"
   ]
  },
  {
   "cell_type": "code",
   "execution_count": 151,
   "metadata": {},
   "outputs": [],
   "source": [
    "import numpy\n",
    "numpy.random.seed(7)"
   ]
  },
  {
   "cell_type": "code",
   "execution_count": 152,
   "metadata": {},
   "outputs": [],
   "source": [
    "dataset = numpy.loadtxt(\"pima-indians-diabetes.data.csv\",delimiter = \",\")"
   ]
  },
  {
   "cell_type": "code",
   "execution_count": 153,
   "metadata": {},
   "outputs": [],
   "source": [
    "X = dataset[:,0:-1]\n",
    "Y = dataset[:,8]"
   ]
  },
  {
   "cell_type": "code",
   "execution_count": 154,
   "metadata": {},
   "outputs": [],
   "source": [
    "model = Sequential()"
   ]
  },
  {
   "cell_type": "code",
   "execution_count": 155,
   "metadata": {},
   "outputs": [],
   "source": [
    "batch_size = 128"
   ]
  },
  {
   "cell_type": "code",
   "execution_count": 156,
   "metadata": {},
   "outputs": [],
   "source": [
    "num_classes = 10"
   ]
  },
  {
   "cell_type": "code",
   "execution_count": 157,
   "metadata": {},
   "outputs": [],
   "source": [
    "epochs = 20"
   ]
  },
  {
   "cell_type": "code",
   "execution_count": 158,
   "metadata": {},
   "outputs": [],
   "source": [
    "(x_train,y_train),(x_test,y_test) = mnist.load_data()"
   ]
  },
  {
   "cell_type": "code",
   "execution_count": 159,
   "metadata": {},
   "outputs": [],
   "source": [
    "x_train = x_train.reshape(x_train.shape[0],-1)\n",
    "x_test = x_test.reshape(x_test.shape[0],-1)\n",
    "x_train = x_train.astype('float32')\n",
    "x_test = x_test.astype('float32')"
   ]
  },
  {
   "cell_type": "code",
   "execution_count": 160,
   "metadata": {},
   "outputs": [],
   "source": [
    "x_train/=255\n",
    "x_test/=255"
   ]
  },
  {
   "cell_type": "code",
   "execution_count": 161,
   "metadata": {},
   "outputs": [],
   "source": [
    "y_train = to_categorical(y_train)\n",
    "y_test = to_categorical(y_test)"
   ]
  },
  {
   "cell_type": "code",
   "execution_count": 162,
   "metadata": {},
   "outputs": [],
   "source": [
    "model = Sequential()"
   ]
  },
  {
   "cell_type": "code",
   "execution_count": 163,
   "metadata": {},
   "outputs": [],
   "source": [
    "model.add(Dense(512,activation=relu,input_shape = (784,)))"
   ]
  },
  {
   "cell_type": "code",
   "execution_count": 164,
   "metadata": {},
   "outputs": [],
   "source": [
    "model.add(Dropout(0.2))"
   ]
  },
  {
   "cell_type": "code",
   "execution_count": 165,
   "metadata": {},
   "outputs": [],
   "source": [
    "model.add(Dense(512,activation=relu))"
   ]
  },
  {
   "cell_type": "code",
   "execution_count": 166,
   "metadata": {},
   "outputs": [],
   "source": [
    "model.add(Dropout(0.2))"
   ]
  },
  {
   "cell_type": "code",
   "execution_count": 167,
   "metadata": {},
   "outputs": [],
   "source": [
    "model.add(Dense(num_classes,activation=softmax))"
   ]
  },
  {
   "cell_type": "code",
   "execution_count": 168,
   "metadata": {},
   "outputs": [
    {
     "name": "stdout",
     "output_type": "stream",
     "text": [
      "_________________________________________________________________\n",
      "Layer (type)                 Output Shape              Param #   \n",
      "=================================================================\n",
      "dense_25 (Dense)             (None, 512)               401920    \n",
      "_________________________________________________________________\n",
      "dropout_19 (Dropout)         (None, 512)               0         \n",
      "_________________________________________________________________\n",
      "dense_26 (Dense)             (None, 512)               262656    \n",
      "_________________________________________________________________\n",
      "dropout_20 (Dropout)         (None, 512)               0         \n",
      "_________________________________________________________________\n",
      "dense_27 (Dense)             (None, 10)                5130      \n",
      "=================================================================\n",
      "Total params: 669,706\n",
      "Trainable params: 669,706\n",
      "Non-trainable params: 0\n",
      "_________________________________________________________________\n"
     ]
    }
   ],
   "source": [
    "model.summary()"
   ]
  },
  {
   "cell_type": "code",
   "execution_count": 169,
   "metadata": {},
   "outputs": [],
   "source": [
    "model.compile(loss=categorical_crossentropy,optimizer='Adam',metrics=['accuracy'])"
   ]
  },
  {
   "cell_type": "code",
   "execution_count": 118,
   "metadata": {},
   "outputs": [
    {
     "name": "stdout",
     "output_type": "stream",
     "text": [
      "Train on 48000 samples, validate on 12000 samples\n",
      "Epoch 1/20\n",
      "48000/48000 [==============================] - 15s 302us/step - loss: 0.1270 - acc: 0.9877 - val_loss: 0.1406 - val_acc: 0.9775\n",
      "Epoch 2/20\n",
      "48000/48000 [==============================] - 14s 284us/step - loss: 0.0564 - acc: 0.9902 - val_loss: 0.1284 - val_acc: 0.9790\n",
      "Epoch 3/20\n",
      "48000/48000 [==============================] - 12s 255us/step - loss: 0.0470 - acc: 0.9916 - val_loss: 0.1283 - val_acc: 0.9787\n",
      "Epoch 4/20\n",
      "48000/48000 [==============================] - 14s 287us/step - loss: 0.0455 - acc: 0.9920 - val_loss: 0.1138 - val_acc: 0.9803\n",
      "Epoch 5/20\n",
      "48000/48000 [==============================] - 13s 266us/step - loss: 0.0382 - acc: 0.9932 - val_loss: 0.1201 - val_acc: 0.9801\n",
      "Epoch 6/20\n",
      "48000/48000 [==============================] - 12s 253us/step - loss: 0.0361 - acc: 0.9929 - val_loss: 0.1170 - val_acc: 0.9802\n",
      "Epoch 7/20\n",
      "48000/48000 [==============================] - 13s 279us/step - loss: 0.0334 - acc: 0.9933 - val_loss: 0.1041 - val_acc: 0.9808\n",
      "Epoch 8/20\n",
      "48000/48000 [==============================] - 11s 237us/step - loss: 0.0288 - acc: 0.9940 - val_loss: 0.1100 - val_acc: 0.9805\n",
      "Epoch 9/20\n",
      "48000/48000 [==============================] - 13s 269us/step - loss: 0.0257 - acc: 0.9945 - val_loss: 0.1159 - val_acc: 0.9807\n",
      "Epoch 10/20\n",
      "48000/48000 [==============================] - 14s 287us/step - loss: 0.0272 - acc: 0.9947 - val_loss: 0.1246 - val_acc: 0.9804\n",
      "Epoch 11/20\n",
      "48000/48000 [==============================] - 24s 491us/step - loss: 0.0258 - acc: 0.9944 - val_loss: 0.1302 - val_acc: 0.9781\n",
      "Epoch 12/20\n",
      "48000/48000 [==============================] - 26s 533us/step - loss: 0.0345 - acc: 0.9926 - val_loss: 0.1113 - val_acc: 0.9806\n",
      "Epoch 13/20\n",
      "48000/48000 [==============================] - 22s 463us/step - loss: 0.0206 - acc: 0.9950 - val_loss: 0.1035 - val_acc: 0.9824\n",
      "Epoch 14/20\n",
      "48000/48000 [==============================] - 24s 496us/step - loss: 0.0166 - acc: 0.9964 - val_loss: 0.1196 - val_acc: 0.9788\n",
      "Epoch 15/20\n",
      "48000/48000 [==============================] - 24s 490us/step - loss: 0.0219 - acc: 0.9956 - val_loss: 0.1195 - val_acc: 0.9797\n",
      "Epoch 16/20\n",
      "48000/48000 [==============================] - 24s 490us/step - loss: 0.0300 - acc: 0.9936 - val_loss: 0.1225 - val_acc: 0.9763\n",
      "Epoch 17/20\n",
      "48000/48000 [==============================] - 24s 490us/step - loss: 0.0313 - acc: 0.9933 - val_loss: 0.1113 - val_acc: 0.9804\n",
      "Epoch 18/20\n",
      "48000/48000 [==============================] - 23s 482us/step - loss: 0.0255 - acc: 0.9944 - val_loss: 0.1127 - val_acc: 0.9822\n",
      "Epoch 19/20\n",
      "48000/48000 [==============================] - 27s 560us/step - loss: 0.0263 - acc: 0.9939 - val_loss: 0.1094 - val_acc: 0.9798\n",
      "Epoch 20/20\n",
      "48000/48000 [==============================] - 28s 591us/step - loss: 0.0208 - acc: 0.9955 - val_loss: 0.1048 - val_acc: 0.9821\n"
     ]
    },
    {
     "data": {
      "text/plain": [
       "<keras.callbacks.History at 0x7f20859a47b8>"
      ]
     },
     "execution_count": 118,
     "metadata": {},
     "output_type": "execute_result"
    }
   ],
   "source": [
    "model.fit(x_train,y_train,batch_size = batch_size,epochs=epochs,validation_split=0.2)"
   ]
  },
  {
   "cell_type": "code",
   "execution_count": 170,
   "metadata": {},
   "outputs": [
    {
     "name": "stdout",
     "output_type": "stream",
     "text": [
      "10000/10000 [==============================] - 1s 118us/step\n"
     ]
    }
   ],
   "source": [
    "score = model.evaluate(x_test,y_test)"
   ]
  },
  {
   "cell_type": "code",
   "execution_count": 171,
   "metadata": {},
   "outputs": [
    {
     "data": {
      "text/plain": [
       "[2.3349232421875, 0.1124]"
      ]
     },
     "execution_count": 171,
     "metadata": {},
     "output_type": "execute_result"
    }
   ],
   "source": [
    "score"
   ]
  },
  {
   "cell_type": "code",
   "execution_count": 230,
   "metadata": {},
   "outputs": [],
   "source": [
    "from keras.layers.recurrent import LSTM\n",
    "from keras.layers import Embedding"
   ]
  },
  {
   "cell_type": "code",
   "execution_count": 231,
   "metadata": {},
   "outputs": [],
   "source": [
    "from keras.datasets import imdb\n",
    "from keras.preprocessing import sequence"
   ]
  },
  {
   "cell_type": "code",
   "execution_count": 232,
   "metadata": {},
   "outputs": [],
   "source": [
    "(x_train,y_train),(x_test,y_test) = imdb.load_data()"
   ]
  },
  {
   "cell_type": "code",
   "execution_count": null,
   "metadata": {},
   "outputs": [],
   "source": []
  },
  {
   "cell_type": "code",
   "execution_count": 233,
   "metadata": {},
   "outputs": [],
   "source": [
    "max_features = 200000\n",
    "maxlen = 300"
   ]
  },
  {
   "cell_type": "code",
   "execution_count": 234,
   "metadata": {},
   "outputs": [],
   "source": [
    "x_train = sequence.pad_sequences(x_train,maxlen = maxlen)\n",
    "x_test = sequence.pad_sequences(x_test,maxlen = maxlen)"
   ]
  },
  {
   "cell_type": "code",
   "execution_count": 235,
   "metadata": {},
   "outputs": [],
   "source": [
    "model = Sequential()\n",
    "model.add(Embedding(max_features,128))\n",
    "model.add(LSTM(128,dropout=0.2, recurrent_dropout=0.2))\n",
    "model.add(Dense(1,activation=sigmoid))"
   ]
  },
  {
   "cell_type": "code",
   "execution_count": 236,
   "metadata": {},
   "outputs": [],
   "source": [
    "model.compile(loss='binary_crossentropy',optimizer='sgd',metrics=['accuracy'])"
   ]
  },
  {
   "cell_type": "code",
   "execution_count": null,
   "metadata": {},
   "outputs": [
    {
     "name": "stdout",
     "output_type": "stream",
     "text": [
      "_________________________________________________________________\n",
      "Layer (type)                 Output Shape              Param #   \n",
      "=================================================================\n",
      "embedding_12 (Embedding)     (None, None, 128)         25600000  \n",
      "_________________________________________________________________\n",
      "lstm_9 (LSTM)                (None, 128)               131584    \n",
      "_________________________________________________________________\n",
      "dense_35 (Dense)             (None, 1)                 129       \n",
      "=================================================================\n",
      "Total params: 25,731,713\n",
      "Trainable params: 25,731,713\n",
      "Non-trainable params: 0\n",
      "_________________________________________________________________\n"
     ]
    }
   ],
   "source": [
    "model.summary()"
   ]
  },
  {
   "cell_type": "code",
   "execution_count": null,
   "metadata": {},
   "outputs": [
    {
     "name": "stdout",
     "output_type": "stream",
     "text": [
      "Train on 20000 samples, validate on 5000 samples\n",
      "Epoch 1/15\n",
      "20000/20000 [==============================] - 603s 30ms/step - loss: 0.6931 - acc: 0.5007 - val_loss: 0.6929 - val_acc: 0.5240\n",
      "Epoch 2/15\n",
      "20000/20000 [==============================] - 589s 29ms/step - loss: 0.6929 - acc: 0.5101 - val_loss: 0.6927 - val_acc: 0.5270\n",
      "Epoch 3/15\n",
      "20000/20000 [==============================] - 581s 29ms/step - loss: 0.6927 - acc: 0.5192 - val_loss: 0.6925 - val_acc: 0.5442\n",
      "Epoch 4/15\n",
      "20000/20000 [==============================] - 582s 29ms/step - loss: 0.6925 - acc: 0.5259 - val_loss: 0.6923 - val_acc: 0.5462\n",
      "Epoch 5/15\n",
      "20000/20000 [==============================] - 585s 29ms/step - loss: 0.6923 - acc: 0.5285 - val_loss: 0.6920 - val_acc: 0.5608\n",
      "Epoch 6/15\n",
      " 8576/20000 [===========>..................] - ETA: 5:18 - loss: 0.6921 - acc: 0.5436"
     ]
    }
   ],
   "source": [
    "model.fit(x_train,y_train,batch_size=32,epochs=15,validation_split=0.2)"
   ]
  },
  {
   "cell_type": "code",
   "execution_count": null,
   "metadata": {},
   "outputs": [],
   "source": [
    "model.evaluate(x_test,y_test)"
   ]
  },
  {
   "cell_type": "code",
   "execution_count": null,
   "metadata": {},
   "outputs": [],
   "source": [
    "model.evaluate(x_train,y_train)"
   ]
  },
  {
   "cell_type": "code",
   "execution_count": null,
   "metadata": {},
   "outputs": [],
   "source": []
  }
 ],
 "metadata": {
  "kernelspec": {
   "display_name": "Python 3",
   "language": "python",
   "name": "python3"
  },
  "language_info": {
   "codemirror_mode": {
    "name": "ipython",
    "version": 3
   },
   "file_extension": ".py",
   "mimetype": "text/x-python",
   "name": "python",
   "nbconvert_exporter": "python",
   "pygments_lexer": "ipython3",
   "version": "3.5.2"
  }
 },
 "nbformat": 4,
 "nbformat_minor": 2
}
